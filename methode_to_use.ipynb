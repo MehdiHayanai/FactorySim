{
 "cells": [
  {
   "cell_type": "code",
   "execution_count": 1,
   "metadata": {},
   "outputs": [],
   "source": [
    "import pandas as pd\n",
    "import numpy as np\n",
    "import matplotlib.pyplot as plt\n",
    "import plotly.express as px\n",
    "import plotly.graph_objects as go\n",
    "import seaborn as sns\n",
    "from sklearn.metrics import mean_absolute_error\n",
    "from utils import *"
   ]
  },
  {
   "cell_type": "code",
   "execution_count": 2,
   "metadata": {},
   "outputs": [],
   "source": [
    "log_fnc = lambda window: -np.log(np.arange(1, window + 1) * (1 / window))\n",
    "exp_fnc = lambda window: np.exp(np.arange(1, window + 1) * (1 / window))\n",
    "id_fnc = lambda window: np.arange(1, window + 1) * (1 / window)\n",
    "quad_fnc = lambda window: np.power(np.arange(1, window + 1) * (1 / window),2)"
   ]
  },
  {
   "cell_type": "code",
   "execution_count": 4,
   "metadata": {},
   "outputs": [],
   "source": [
    "jour = 102\n",
    "window = 5\n",
    "df = pd.read_csv(f'data/demande/Demande-{jour}.csv', delimiter=';')\n",
    "Ma_df = moving_average_growth_rate(df, window=3, column='Demand')[\"MA\"][window:].to_numpy()\n",
    "log_fnc_pred = weighted_moving_average_rate(df, window=window, column='Demand', security_rate=1, func=log_fnc)[\"WMA\"][window:].to_numpy()\n",
    "exp_fnc_pred = weighted_moving_average_rate(df, window=window, column='Demand', security_rate=1, func=exp_fnc)[\"WMA\"][window:].to_numpy()\n",
    "id_fnc_pred = weighted_moving_average_rate(df, window=window, column='Demand', security_rate=1, func=id_fnc)[\"WMA\"][window:].to_numpy()\n",
    "quad_fnc_pred = weighted_moving_average_rate(df, window=window, column='Demand', security_rate=1, func=quad_fnc)[\"WMA\"][window:].to_numpy()\n",
    "y = df[\"Demand\"][window:].to_numpy()"
   ]
  },
  {
   "cell_type": "code",
   "execution_count": 12,
   "metadata": {},
   "outputs": [
    {
     "data": {
      "application/vnd.plotly.v1+json": {
       "config": {
        "plotlyServerURL": "https://plot.ly"
       },
       "data": [
        {
         "alignmentgroup": "True",
         "hovertemplate": "x=%{x}<br>y=%{y}<extra></extra>",
         "legendgroup": "",
         "marker": {
          "color": "#4C72B0",
          "pattern": {
           "shape": ""
          }
         },
         "name": "",
         "offsetgroup": "",
         "orientation": "v",
         "showlegend": false,
         "textposition": "outside",
         "texttemplate": "%{y:.2f}",
         "type": "bar",
         "x": [
          "log",
          "exp",
          "id",
          "quad",
          "MA"
         ],
         "xaxis": "x",
         "y": [
          3.282079051554283,
          2.2381806140689977,
          2.099319727891157,
          1.757328385899815,
          2.217687074829932
         ],
         "yaxis": "y"
        }
       ],
       "layout": {
        "barmode": "relative",
        "legend": {
         "tracegroupgap": 0
        },
        "margin": {
         "t": 60
        },
        "template": {
         "data": {
          "bar": [
           {
            "error_x": {
             "color": "#2a3f5f"
            },
            "error_y": {
             "color": "#2a3f5f"
            },
            "marker": {
             "line": {
              "color": "white",
              "width": 0.5
             },
             "pattern": {
              "fillmode": "overlay",
              "size": 10,
              "solidity": 0.2
             }
            },
            "type": "bar"
           }
          ],
          "barpolar": [
           {
            "marker": {
             "line": {
              "color": "white",
              "width": 0.5
             },
             "pattern": {
              "fillmode": "overlay",
              "size": 10,
              "solidity": 0.2
             }
            },
            "type": "barpolar"
           }
          ],
          "carpet": [
           {
            "aaxis": {
             "endlinecolor": "#2a3f5f",
             "gridcolor": "#C8D4E3",
             "linecolor": "#C8D4E3",
             "minorgridcolor": "#C8D4E3",
             "startlinecolor": "#2a3f5f"
            },
            "baxis": {
             "endlinecolor": "#2a3f5f",
             "gridcolor": "#C8D4E3",
             "linecolor": "#C8D4E3",
             "minorgridcolor": "#C8D4E3",
             "startlinecolor": "#2a3f5f"
            },
            "type": "carpet"
           }
          ],
          "choropleth": [
           {
            "colorbar": {
             "outlinewidth": 0,
             "ticks": ""
            },
            "type": "choropleth"
           }
          ],
          "contour": [
           {
            "colorbar": {
             "outlinewidth": 0,
             "ticks": ""
            },
            "colorscale": [
             [
              0,
              "#0d0887"
             ],
             [
              0.1111111111111111,
              "#46039f"
             ],
             [
              0.2222222222222222,
              "#7201a8"
             ],
             [
              0.3333333333333333,
              "#9c179e"
             ],
             [
              0.4444444444444444,
              "#bd3786"
             ],
             [
              0.5555555555555556,
              "#d8576b"
             ],
             [
              0.6666666666666666,
              "#ed7953"
             ],
             [
              0.7777777777777778,
              "#fb9f3a"
             ],
             [
              0.8888888888888888,
              "#fdca26"
             ],
             [
              1,
              "#f0f921"
             ]
            ],
            "type": "contour"
           }
          ],
          "contourcarpet": [
           {
            "colorbar": {
             "outlinewidth": 0,
             "ticks": ""
            },
            "type": "contourcarpet"
           }
          ],
          "heatmap": [
           {
            "colorbar": {
             "outlinewidth": 0,
             "ticks": ""
            },
            "colorscale": [
             [
              0,
              "#0d0887"
             ],
             [
              0.1111111111111111,
              "#46039f"
             ],
             [
              0.2222222222222222,
              "#7201a8"
             ],
             [
              0.3333333333333333,
              "#9c179e"
             ],
             [
              0.4444444444444444,
              "#bd3786"
             ],
             [
              0.5555555555555556,
              "#d8576b"
             ],
             [
              0.6666666666666666,
              "#ed7953"
             ],
             [
              0.7777777777777778,
              "#fb9f3a"
             ],
             [
              0.8888888888888888,
              "#fdca26"
             ],
             [
              1,
              "#f0f921"
             ]
            ],
            "type": "heatmap"
           }
          ],
          "heatmapgl": [
           {
            "colorbar": {
             "outlinewidth": 0,
             "ticks": ""
            },
            "colorscale": [
             [
              0,
              "#0d0887"
             ],
             [
              0.1111111111111111,
              "#46039f"
             ],
             [
              0.2222222222222222,
              "#7201a8"
             ],
             [
              0.3333333333333333,
              "#9c179e"
             ],
             [
              0.4444444444444444,
              "#bd3786"
             ],
             [
              0.5555555555555556,
              "#d8576b"
             ],
             [
              0.6666666666666666,
              "#ed7953"
             ],
             [
              0.7777777777777778,
              "#fb9f3a"
             ],
             [
              0.8888888888888888,
              "#fdca26"
             ],
             [
              1,
              "#f0f921"
             ]
            ],
            "type": "heatmapgl"
           }
          ],
          "histogram": [
           {
            "marker": {
             "pattern": {
              "fillmode": "overlay",
              "size": 10,
              "solidity": 0.2
             }
            },
            "type": "histogram"
           }
          ],
          "histogram2d": [
           {
            "colorbar": {
             "outlinewidth": 0,
             "ticks": ""
            },
            "colorscale": [
             [
              0,
              "#0d0887"
             ],
             [
              0.1111111111111111,
              "#46039f"
             ],
             [
              0.2222222222222222,
              "#7201a8"
             ],
             [
              0.3333333333333333,
              "#9c179e"
             ],
             [
              0.4444444444444444,
              "#bd3786"
             ],
             [
              0.5555555555555556,
              "#d8576b"
             ],
             [
              0.6666666666666666,
              "#ed7953"
             ],
             [
              0.7777777777777778,
              "#fb9f3a"
             ],
             [
              0.8888888888888888,
              "#fdca26"
             ],
             [
              1,
              "#f0f921"
             ]
            ],
            "type": "histogram2d"
           }
          ],
          "histogram2dcontour": [
           {
            "colorbar": {
             "outlinewidth": 0,
             "ticks": ""
            },
            "colorscale": [
             [
              0,
              "#0d0887"
             ],
             [
              0.1111111111111111,
              "#46039f"
             ],
             [
              0.2222222222222222,
              "#7201a8"
             ],
             [
              0.3333333333333333,
              "#9c179e"
             ],
             [
              0.4444444444444444,
              "#bd3786"
             ],
             [
              0.5555555555555556,
              "#d8576b"
             ],
             [
              0.6666666666666666,
              "#ed7953"
             ],
             [
              0.7777777777777778,
              "#fb9f3a"
             ],
             [
              0.8888888888888888,
              "#fdca26"
             ],
             [
              1,
              "#f0f921"
             ]
            ],
            "type": "histogram2dcontour"
           }
          ],
          "mesh3d": [
           {
            "colorbar": {
             "outlinewidth": 0,
             "ticks": ""
            },
            "type": "mesh3d"
           }
          ],
          "parcoords": [
           {
            "line": {
             "colorbar": {
              "outlinewidth": 0,
              "ticks": ""
             }
            },
            "type": "parcoords"
           }
          ],
          "pie": [
           {
            "automargin": true,
            "type": "pie"
           }
          ],
          "scatter": [
           {
            "fillpattern": {
             "fillmode": "overlay",
             "size": 10,
             "solidity": 0.2
            },
            "type": "scatter"
           }
          ],
          "scatter3d": [
           {
            "line": {
             "colorbar": {
              "outlinewidth": 0,
              "ticks": ""
             }
            },
            "marker": {
             "colorbar": {
              "outlinewidth": 0,
              "ticks": ""
             }
            },
            "type": "scatter3d"
           }
          ],
          "scattercarpet": [
           {
            "marker": {
             "colorbar": {
              "outlinewidth": 0,
              "ticks": ""
             }
            },
            "type": "scattercarpet"
           }
          ],
          "scattergeo": [
           {
            "marker": {
             "colorbar": {
              "outlinewidth": 0,
              "ticks": ""
             }
            },
            "type": "scattergeo"
           }
          ],
          "scattergl": [
           {
            "marker": {
             "colorbar": {
              "outlinewidth": 0,
              "ticks": ""
             }
            },
            "type": "scattergl"
           }
          ],
          "scattermapbox": [
           {
            "marker": {
             "colorbar": {
              "outlinewidth": 0,
              "ticks": ""
             }
            },
            "type": "scattermapbox"
           }
          ],
          "scatterpolar": [
           {
            "marker": {
             "colorbar": {
              "outlinewidth": 0,
              "ticks": ""
             }
            },
            "type": "scatterpolar"
           }
          ],
          "scatterpolargl": [
           {
            "marker": {
             "colorbar": {
              "outlinewidth": 0,
              "ticks": ""
             }
            },
            "type": "scatterpolargl"
           }
          ],
          "scatterternary": [
           {
            "marker": {
             "colorbar": {
              "outlinewidth": 0,
              "ticks": ""
             }
            },
            "type": "scatterternary"
           }
          ],
          "surface": [
           {
            "colorbar": {
             "outlinewidth": 0,
             "ticks": ""
            },
            "colorscale": [
             [
              0,
              "#0d0887"
             ],
             [
              0.1111111111111111,
              "#46039f"
             ],
             [
              0.2222222222222222,
              "#7201a8"
             ],
             [
              0.3333333333333333,
              "#9c179e"
             ],
             [
              0.4444444444444444,
              "#bd3786"
             ],
             [
              0.5555555555555556,
              "#d8576b"
             ],
             [
              0.6666666666666666,
              "#ed7953"
             ],
             [
              0.7777777777777778,
              "#fb9f3a"
             ],
             [
              0.8888888888888888,
              "#fdca26"
             ],
             [
              1,
              "#f0f921"
             ]
            ],
            "type": "surface"
           }
          ],
          "table": [
           {
            "cells": {
             "fill": {
              "color": "#EBF0F8"
             },
             "line": {
              "color": "white"
             }
            },
            "header": {
             "fill": {
              "color": "#C8D4E3"
             },
             "line": {
              "color": "white"
             }
            },
            "type": "table"
           }
          ]
         },
         "layout": {
          "annotationdefaults": {
           "arrowcolor": "#2a3f5f",
           "arrowhead": 0,
           "arrowwidth": 1
          },
          "autotypenumbers": "strict",
          "coloraxis": {
           "colorbar": {
            "outlinewidth": 0,
            "ticks": ""
           }
          },
          "colorscale": {
           "diverging": [
            [
             0,
             "#8e0152"
            ],
            [
             0.1,
             "#c51b7d"
            ],
            [
             0.2,
             "#de77ae"
            ],
            [
             0.3,
             "#f1b6da"
            ],
            [
             0.4,
             "#fde0ef"
            ],
            [
             0.5,
             "#f7f7f7"
            ],
            [
             0.6,
             "#e6f5d0"
            ],
            [
             0.7,
             "#b8e186"
            ],
            [
             0.8,
             "#7fbc41"
            ],
            [
             0.9,
             "#4d9221"
            ],
            [
             1,
             "#276419"
            ]
           ],
           "sequential": [
            [
             0,
             "#0d0887"
            ],
            [
             0.1111111111111111,
             "#46039f"
            ],
            [
             0.2222222222222222,
             "#7201a8"
            ],
            [
             0.3333333333333333,
             "#9c179e"
            ],
            [
             0.4444444444444444,
             "#bd3786"
            ],
            [
             0.5555555555555556,
             "#d8576b"
            ],
            [
             0.6666666666666666,
             "#ed7953"
            ],
            [
             0.7777777777777778,
             "#fb9f3a"
            ],
            [
             0.8888888888888888,
             "#fdca26"
            ],
            [
             1,
             "#f0f921"
            ]
           ],
           "sequentialminus": [
            [
             0,
             "#0d0887"
            ],
            [
             0.1111111111111111,
             "#46039f"
            ],
            [
             0.2222222222222222,
             "#7201a8"
            ],
            [
             0.3333333333333333,
             "#9c179e"
            ],
            [
             0.4444444444444444,
             "#bd3786"
            ],
            [
             0.5555555555555556,
             "#d8576b"
            ],
            [
             0.6666666666666666,
             "#ed7953"
            ],
            [
             0.7777777777777778,
             "#fb9f3a"
            ],
            [
             0.8888888888888888,
             "#fdca26"
            ],
            [
             1,
             "#f0f921"
            ]
           ]
          },
          "colorway": [
           "#636efa",
           "#EF553B",
           "#00cc96",
           "#ab63fa",
           "#FFA15A",
           "#19d3f3",
           "#FF6692",
           "#B6E880",
           "#FF97FF",
           "#FECB52"
          ],
          "font": {
           "color": "#2a3f5f"
          },
          "geo": {
           "bgcolor": "white",
           "lakecolor": "white",
           "landcolor": "white",
           "showlakes": true,
           "showland": true,
           "subunitcolor": "#C8D4E3"
          },
          "hoverlabel": {
           "align": "left"
          },
          "hovermode": "closest",
          "mapbox": {
           "style": "light"
          },
          "paper_bgcolor": "white",
          "plot_bgcolor": "white",
          "polar": {
           "angularaxis": {
            "gridcolor": "#EBF0F8",
            "linecolor": "#EBF0F8",
            "ticks": ""
           },
           "bgcolor": "white",
           "radialaxis": {
            "gridcolor": "#EBF0F8",
            "linecolor": "#EBF0F8",
            "ticks": ""
           }
          },
          "scene": {
           "xaxis": {
            "backgroundcolor": "white",
            "gridcolor": "#DFE8F3",
            "gridwidth": 2,
            "linecolor": "#EBF0F8",
            "showbackground": true,
            "ticks": "",
            "zerolinecolor": "#EBF0F8"
           },
           "yaxis": {
            "backgroundcolor": "white",
            "gridcolor": "#DFE8F3",
            "gridwidth": 2,
            "linecolor": "#EBF0F8",
            "showbackground": true,
            "ticks": "",
            "zerolinecolor": "#EBF0F8"
           },
           "zaxis": {
            "backgroundcolor": "white",
            "gridcolor": "#DFE8F3",
            "gridwidth": 2,
            "linecolor": "#EBF0F8",
            "showbackground": true,
            "ticks": "",
            "zerolinecolor": "#EBF0F8"
           }
          },
          "shapedefaults": {
           "line": {
            "color": "#2a3f5f"
           }
          },
          "ternary": {
           "aaxis": {
            "gridcolor": "#DFE8F3",
            "linecolor": "#A2B1C6",
            "ticks": ""
           },
           "baxis": {
            "gridcolor": "#DFE8F3",
            "linecolor": "#A2B1C6",
            "ticks": ""
           },
           "bgcolor": "white",
           "caxis": {
            "gridcolor": "#DFE8F3",
            "linecolor": "#A2B1C6",
            "ticks": ""
           }
          },
          "title": {
           "x": 0.05
          },
          "xaxis": {
           "automargin": true,
           "gridcolor": "#EBF0F8",
           "linecolor": "#EBF0F8",
           "ticks": "",
           "title": {
            "standoff": 15
           },
           "zerolinecolor": "#EBF0F8",
           "zerolinewidth": 2
          },
          "yaxis": {
           "automargin": true,
           "gridcolor": "#EBF0F8",
           "linecolor": "#EBF0F8",
           "ticks": "",
           "title": {
            "standoff": 15
           },
           "zerolinecolor": "#EBF0F8",
           "zerolinewidth": 2
          }
         }
        },
        "title": {
         "text": "Mean absolute error for each prediction using moving window of 5 days and 102 days of data"
        },
        "xaxis": {
         "anchor": "y",
         "domain": [
          0,
          1
         ],
         "title": {
          "text": "Prediction"
         }
        },
        "yaxis": {
         "anchor": "x",
         "domain": [
          0,
          1
         ],
         "title": {
          "text": "Mean squared error"
         }
        }
       }
      }
     },
     "metadata": {},
     "output_type": "display_data"
    }
   ],
   "source": [
    "preds = [log_fnc_pred, exp_fnc_pred, id_fnc_pred, quad_fnc_pred, Ma_df]\n",
    "pred_name = [\"log\", \"exp\", \"id\", \"quad\", \"MA\"]\n",
    "# plot the mean squared error for each prediction as a bar char in x axis pred name and y axis the mean squared error\n",
    "mse = []\n",
    "for pred in preds:\n",
    "    mse.append(mean_absolute_error(y, pred))\n",
    "\n",
    "# use plotly express\n",
    "fig = px.bar(x=pred_name, y=mse)\n",
    "fig.update_layout(\n",
    "    title=\"Mean absolute error for each prediction using moving window of 5 days and 102 days of data\",\n",
    "    xaxis_title=\"Prediction\",\n",
    "    yaxis_title=\"Mean squared error\",\n",
    "    template='plotly_white'\n",
    ")\n",
    "# change the bar color to sns pallette \n",
    "fig.update_traces(marker_color=\"#4C72B0\")\n",
    "fig.update_traces(texttemplate='%{y:.2f}', textposition='outside')\n",
    "fig.show()"
   ]
  },
  {
   "cell_type": "code",
   "execution_count": 13,
   "metadata": {},
   "outputs": [],
   "source": [
    "jour = 344\n",
    "df = pd.read_csv(f'data/demande/Demande-{jour}.csv', delimiter=';')\n"
   ]
  },
  {
   "cell_type": "code",
   "execution_count": 14,
   "metadata": {},
   "outputs": [],
   "source": [
    "tmp_df = moving_average_growth_rate(df, window=3, column='Demand')\n",
    "tmp_df = weighted_moving_average_rate(tmp_df, window=3, column='Demand', security_rate=1, func=quad_fnc)"
   ]
  },
  {
   "cell_type": "code",
   "execution_count": 16,
   "metadata": {},
   "outputs": [
    {
     "data": {
      "application/vnd.plotly.v1+json": {
       "config": {
        "plotlyServerURL": "https://plot.ly"
       },
       "data": [
        {
         "line": {
          "color": "royalblue",
          "width": 2
         },
         "name": "Demand",
         "type": "scatter",
         "x": [
          0,
          1,
          2,
          3,
          4,
          5,
          6,
          7,
          8,
          9,
          10,
          11,
          12,
          13,
          14,
          15,
          16,
          17,
          18,
          19,
          20,
          21,
          22,
          23,
          24,
          25,
          26,
          27,
          28,
          29,
          30,
          31,
          32,
          33,
          34,
          35,
          36,
          37,
          38,
          39,
          40,
          41,
          42,
          43,
          44,
          45,
          46,
          47,
          48,
          49,
          50,
          51,
          52,
          53,
          54,
          55,
          56,
          57,
          58,
          59,
          60,
          61,
          62,
          63,
          64,
          65,
          66,
          67,
          68,
          69,
          70,
          71,
          72,
          73,
          74,
          75,
          76,
          77,
          78,
          79,
          80,
          81,
          82,
          83,
          84,
          85,
          86,
          87,
          88,
          89,
          90,
          91,
          92,
          93,
          94,
          95,
          96,
          97,
          98,
          99,
          100,
          101,
          102,
          103,
          103,
          104,
          105,
          106,
          107,
          108,
          109,
          110,
          111,
          112,
          113,
          114,
          115,
          116,
          117,
          118,
          119,
          120,
          121,
          122,
          123,
          124,
          125,
          126,
          127,
          128,
          129,
          130,
          131,
          132,
          133,
          134,
          135,
          136,
          137,
          138,
          139,
          140,
          141,
          142,
          143,
          144,
          145,
          146,
          147,
          148,
          149,
          150,
          151,
          152,
          153,
          154,
          155,
          156,
          157,
          158,
          159,
          160,
          161,
          162,
          163,
          164,
          165,
          166,
          167,
          168,
          169,
          170,
          171,
          172,
          173,
          174,
          175,
          176,
          177,
          178,
          179,
          180,
          181,
          182,
          183,
          184,
          185,
          186,
          187,
          188,
          189,
          190,
          191,
          192,
          193,
          194,
          195,
          196,
          197,
          198,
          199,
          200,
          201,
          202,
          203,
          204,
          205,
          206,
          207,
          208,
          209,
          210,
          211,
          212,
          213,
          214,
          215,
          216,
          217,
          218,
          219,
          220,
          221,
          222,
          223,
          224,
          225,
          226,
          227,
          228,
          229,
          230,
          231,
          232,
          233,
          234,
          235,
          236,
          237,
          238,
          239,
          240,
          241,
          242,
          243,
          244,
          245,
          246,
          247,
          248,
          249,
          250,
          251,
          252,
          253,
          254,
          255,
          256,
          257,
          258,
          259,
          260,
          261,
          262,
          263,
          264,
          265,
          266,
          267,
          268,
          269,
          270,
          271,
          272,
          273,
          274,
          275,
          276,
          277,
          278,
          279,
          280,
          281,
          282,
          283,
          284,
          285,
          286,
          287,
          288,
          289,
          290,
          291,
          292,
          293,
          294,
          295,
          296,
          297,
          298,
          299,
          300,
          301,
          302,
          303,
          304,
          305,
          306,
          307,
          308,
          309,
          310,
          311,
          312,
          313,
          314,
          315,
          316,
          317,
          318,
          319,
          320,
          321,
          322,
          323,
          324,
          325,
          326,
          327,
          328,
          329,
          330,
          331,
          332,
          333,
          334,
          335,
          336,
          337,
          338,
          339,
          340,
          341,
          341,
          341,
          342,
          342,
          343,
          344
         ],
         "y": [
          0,
          3,
          2,
          4,
          3,
          3,
          4,
          4,
          0,
          7,
          4,
          15,
          0,
          10,
          8,
          7,
          10,
          14,
          15,
          9,
          13,
          15,
          13,
          10,
          12,
          12,
          18,
          14,
          14,
          24,
          20,
          23,
          26,
          16,
          13,
          25,
          23,
          24,
          20,
          27,
          24,
          29,
          34,
          28,
          30,
          29,
          27,
          24,
          30,
          31,
          27,
          38,
          33,
          39,
          38,
          36,
          36,
          34,
          37,
          32,
          39,
          38,
          37,
          37,
          38,
          37,
          40,
          38,
          41,
          36,
          35,
          42,
          44,
          33,
          39,
          41,
          40,
          42,
          37,
          36,
          36,
          35,
          38,
          31,
          43,
          40,
          43,
          37,
          40,
          39,
          42,
          39,
          39,
          32,
          34,
          38,
          32,
          34,
          38,
          38,
          35,
          32,
          43,
          29,
          37,
          40,
          38,
          36,
          38,
          38,
          37,
          35,
          36,
          33,
          42,
          38,
          37,
          37,
          35,
          36,
          37,
          33,
          34,
          30,
          36,
          33,
          36,
          35,
          39,
          34,
          38,
          38,
          35,
          37,
          36,
          31,
          40,
          34,
          36,
          35,
          32,
          35,
          34,
          36,
          35,
          30,
          33,
          29,
          37,
          31,
          36,
          32,
          39,
          38,
          31,
          39,
          31,
          30,
          31,
          32,
          30,
          35,
          30,
          31,
          30,
          31,
          33,
          35,
          35,
          26,
          28,
          29,
          30,
          38,
          26,
          40,
          28,
          31,
          34,
          32,
          31,
          28,
          30,
          37,
          26,
          33,
          31,
          37,
          31,
          32,
          34,
          32,
          29,
          32,
          33,
          34,
          34,
          35,
          31,
          29,
          29,
          30,
          31,
          27,
          32,
          40,
          32,
          31,
          23,
          39,
          31,
          34,
          33,
          28,
          34,
          31,
          32,
          34,
          31,
          30,
          33,
          26,
          28,
          29,
          26,
          30,
          29,
          31,
          30,
          29,
          32,
          33,
          35,
          32,
          23,
          32,
          32,
          29,
          24,
          29,
          20,
          17,
          14,
          11,
          4,
          3,
          0,
          7,
          0,
          8,
          7,
          1,
          0,
          4,
          0,
          0,
          0,
          7,
          8,
          6,
          5,
          3,
          3,
          7,
          9,
          5,
          3,
          6,
          2,
          5,
          10,
          26,
          36,
          54,
          45,
          52,
          49,
          48,
          48,
          50,
          42,
          53,
          45,
          50,
          48,
          41,
          39,
          45,
          45,
          46,
          46,
          46,
          43,
          48,
          45,
          44,
          45,
          43,
          41,
          45,
          45,
          43,
          42,
          44,
          49,
          51,
          43,
          41,
          44,
          42,
          41,
          46,
          40,
          44,
          40,
          43,
          39,
          41,
          41,
          44,
          43,
          43,
          39,
          38,
          40,
          41,
          41,
          34,
          41,
          38,
          42,
          39,
          39,
          39,
          38,
          39,
          40,
          36,
          34,
          38,
          37,
          35,
          37,
          42,
          40,
          35,
          31,
          38,
          36
         ]
        },
        {
         "line": {
          "color": "firebrick",
          "width": 2
         },
         "name": "MA",
         "type": "scatter",
         "x": [
          0,
          1,
          2,
          3,
          4,
          5,
          6,
          7,
          8,
          9,
          10,
          11,
          12,
          13,
          14,
          15,
          16,
          17,
          18,
          19,
          20,
          21,
          22,
          23,
          24,
          25,
          26,
          27,
          28,
          29,
          30,
          31,
          32,
          33,
          34,
          35,
          36,
          37,
          38,
          39,
          40,
          41,
          42,
          43,
          44,
          45,
          46,
          47,
          48,
          49,
          50,
          51,
          52,
          53,
          54,
          55,
          56,
          57,
          58,
          59,
          60,
          61,
          62,
          63,
          64,
          65,
          66,
          67,
          68,
          69,
          70,
          71,
          72,
          73,
          74,
          75,
          76,
          77,
          78,
          79,
          80,
          81,
          82,
          83,
          84,
          85,
          86,
          87,
          88,
          89,
          90,
          91,
          92,
          93,
          94,
          95,
          96,
          97,
          98,
          99,
          100,
          101,
          102,
          103,
          103,
          104,
          105,
          106,
          107,
          108,
          109,
          110,
          111,
          112,
          113,
          114,
          115,
          116,
          117,
          118,
          119,
          120,
          121,
          122,
          123,
          124,
          125,
          126,
          127,
          128,
          129,
          130,
          131,
          132,
          133,
          134,
          135,
          136,
          137,
          138,
          139,
          140,
          141,
          142,
          143,
          144,
          145,
          146,
          147,
          148,
          149,
          150,
          151,
          152,
          153,
          154,
          155,
          156,
          157,
          158,
          159,
          160,
          161,
          162,
          163,
          164,
          165,
          166,
          167,
          168,
          169,
          170,
          171,
          172,
          173,
          174,
          175,
          176,
          177,
          178,
          179,
          180,
          181,
          182,
          183,
          184,
          185,
          186,
          187,
          188,
          189,
          190,
          191,
          192,
          193,
          194,
          195,
          196,
          197,
          198,
          199,
          200,
          201,
          202,
          203,
          204,
          205,
          206,
          207,
          208,
          209,
          210,
          211,
          212,
          213,
          214,
          215,
          216,
          217,
          218,
          219,
          220,
          221,
          222,
          223,
          224,
          225,
          226,
          227,
          228,
          229,
          230,
          231,
          232,
          233,
          234,
          235,
          236,
          237,
          238,
          239,
          240,
          241,
          242,
          243,
          244,
          245,
          246,
          247,
          248,
          249,
          250,
          251,
          252,
          253,
          254,
          255,
          256,
          257,
          258,
          259,
          260,
          261,
          262,
          263,
          264,
          265,
          266,
          267,
          268,
          269,
          270,
          271,
          272,
          273,
          274,
          275,
          276,
          277,
          278,
          279,
          280,
          281,
          282,
          283,
          284,
          285,
          286,
          287,
          288,
          289,
          290,
          291,
          292,
          293,
          294,
          295,
          296,
          297,
          298,
          299,
          300,
          301,
          302,
          303,
          304,
          305,
          306,
          307,
          308,
          309,
          310,
          311,
          312,
          313,
          314,
          315,
          316,
          317,
          318,
          319,
          320,
          321,
          322,
          323,
          324,
          325,
          326,
          327,
          328,
          329,
          330,
          331,
          332,
          333,
          334,
          335,
          336,
          337,
          338,
          339,
          340,
          341,
          341,
          341,
          342,
          342,
          343,
          344
         ],
         "y": [
          null,
          null,
          1.6666666666666667,
          3,
          3,
          3.3333333333333335,
          3.3333333333333335,
          3.6666666666666665,
          2.6666666666666665,
          3.6666666666666665,
          3.6666666666666665,
          8.666666666666666,
          6.333333333333333,
          8.333333333333334,
          6,
          8.333333333333334,
          8.333333333333334,
          10.333333333333334,
          13,
          12.666666666666666,
          12.333333333333334,
          12.333333333333334,
          13.666666666666666,
          12.666666666666666,
          11.666666666666666,
          11.333333333333334,
          14,
          14.666666666666666,
          15.333333333333334,
          17.333333333333332,
          19.333333333333332,
          22.333333333333332,
          23,
          21.666666666666668,
          18.333333333333332,
          18,
          20.333333333333332,
          24,
          22.333333333333332,
          23.666666666666668,
          23.666666666666668,
          26.666666666666668,
          29,
          30.333333333333332,
          30.666666666666668,
          29,
          28.666666666666668,
          26.666666666666668,
          27,
          28.333333333333332,
          29.333333333333332,
          32,
          32.666666666666664,
          36.666666666666664,
          36.666666666666664,
          37.666666666666664,
          36.666666666666664,
          35.333333333333336,
          35.666666666666664,
          34.333333333333336,
          36,
          36.333333333333336,
          38,
          37.333333333333336,
          37.333333333333336,
          37.333333333333336,
          38.333333333333336,
          38.333333333333336,
          39.666666666666664,
          38.333333333333336,
          37.333333333333336,
          37.666666666666664,
          40.333333333333336,
          39.666666666666664,
          38.666666666666664,
          37.666666666666664,
          40,
          41,
          39.666666666666664,
          38.333333333333336,
          36.333333333333336,
          35.666666666666664,
          36.333333333333336,
          34.666666666666664,
          37.333333333333336,
          38,
          42,
          40,
          40,
          38.666666666666664,
          40.333333333333336,
          40,
          40,
          36.666666666666664,
          35,
          34.666666666666664,
          34.666666666666664,
          34.666666666666664,
          34.666666666666664,
          36.666666666666664,
          37,
          35,
          36.666666666666664,
          34.666666666666664,
          36.333333333333336,
          35.333333333333336,
          38.333333333333336,
          38,
          37.333333333333336,
          37.333333333333336,
          37.666666666666664,
          36.666666666666664,
          36,
          34.666666666666664,
          37,
          37.666666666666664,
          39,
          37.333333333333336,
          36.333333333333336,
          36,
          36,
          35.333333333333336,
          34.666666666666664,
          32.333333333333336,
          33.333333333333336,
          33,
          35,
          34.666666666666664,
          36.666666666666664,
          36,
          37,
          36.666666666666664,
          37,
          36.666666666666664,
          36,
          34.666666666666664,
          35.666666666666664,
          35,
          36.666666666666664,
          35,
          34.333333333333336,
          34,
          33.666666666666664,
          35,
          35,
          33.666666666666664,
          32.666666666666664,
          30.666666666666668,
          33,
          32.333333333333336,
          34.666666666666664,
          33,
          35.666666666666664,
          36.333333333333336,
          36,
          36,
          33.666666666666664,
          33.333333333333336,
          30.666666666666668,
          31,
          31,
          32.333333333333336,
          31.666666666666668,
          32,
          30.333333333333332,
          30.666666666666668,
          31.333333333333332,
          33,
          34.333333333333336,
          32,
          29.666666666666668,
          27.666666666666668,
          29,
          32.333333333333336,
          31.333333333333332,
          34.666666666666664,
          31.333333333333332,
          33,
          31,
          32.333333333333336,
          32.333333333333336,
          30.333333333333332,
          29.666666666666668,
          31.666666666666668,
          31,
          32,
          30,
          33.666666666666664,
          33,
          33.333333333333336,
          32.333333333333336,
          32.666666666666664,
          31.666666666666668,
          31,
          31.333333333333332,
          33,
          33.666666666666664,
          34.333333333333336,
          33.333333333333336,
          31.666666666666668,
          29.666666666666668,
          29.333333333333332,
          30,
          29.333333333333332,
          30,
          33,
          34.666666666666664,
          34.333333333333336,
          28.666666666666668,
          31,
          31,
          34.666666666666664,
          32.666666666666664,
          31.666666666666668,
          31.666666666666668,
          31,
          32.333333333333336,
          32.333333333333336,
          32.333333333333336,
          31.666666666666668,
          31.333333333333332,
          29.666666666666668,
          29,
          27.666666666666668,
          27.666666666666668,
          28.333333333333332,
          28.333333333333332,
          30,
          30,
          30,
          30.333333333333332,
          31.333333333333332,
          33.333333333333336,
          33.333333333333336,
          30,
          29,
          29,
          31,
          28.333333333333332,
          27.333333333333332,
          24.333333333333332,
          22,
          17,
          14,
          9.666666666666666,
          6,
          2.3333333333333335,
          3.3333333333333335,
          2.3333333333333335,
          5,
          5,
          5.333333333333333,
          2.6666666666666665,
          1.6666666666666667,
          1.3333333333333333,
          1.3333333333333333,
          0,
          2.3333333333333335,
          5,
          7,
          6.333333333333333,
          4.666666666666667,
          3.6666666666666665,
          4.333333333333333,
          6.333333333333333,
          7,
          5.666666666666667,
          4.666666666666667,
          3.6666666666666665,
          4.333333333333333,
          5.666666666666667,
          13.666666666666666,
          24,
          38.666666666666664,
          45,
          50.333333333333336,
          48.666666666666664,
          49.666666666666664,
          48.333333333333336,
          48.666666666666664,
          46.666666666666664,
          48.333333333333336,
          46.666666666666664,
          49.333333333333336,
          47.666666666666664,
          46.333333333333336,
          42.666666666666664,
          41.666666666666664,
          43,
          45.333333333333336,
          45.666666666666664,
          46,
          45,
          45.666666666666664,
          45.333333333333336,
          45.666666666666664,
          44.666666666666664,
          44,
          43,
          43,
          43.666666666666664,
          44.333333333333336,
          43.333333333333336,
          43,
          45,
          48,
          47.666666666666664,
          45,
          42.666666666666664,
          42.333333333333336,
          42.333333333333336,
          43,
          42.333333333333336,
          43.333333333333336,
          41.333333333333336,
          42.333333333333336,
          40.666666666666664,
          41,
          40.333333333333336,
          42,
          42.666666666666664,
          43.333333333333336,
          41.666666666666664,
          40,
          39,
          39.666666666666664,
          40.666666666666664,
          38.666666666666664,
          38.666666666666664,
          37.666666666666664,
          40.333333333333336,
          39.666666666666664,
          40,
          39,
          38.666666666666664,
          38.666666666666664,
          39,
          38.333333333333336,
          36.666666666666664,
          36,
          36.333333333333336,
          36.666666666666664,
          36.333333333333336,
          38,
          39.666666666666664,
          39,
          35.333333333333336,
          34.666666666666664,
          35
         ]
        },
        {
         "line": {
          "color": "green",
          "width": 2
         },
         "name": "WMA",
         "type": "scatter",
         "x": [
          0,
          1,
          2,
          3,
          4,
          5,
          6,
          7,
          8,
          9,
          10,
          11,
          12,
          13,
          14,
          15,
          16,
          17,
          18,
          19,
          20,
          21,
          22,
          23,
          24,
          25,
          26,
          27,
          28,
          29,
          30,
          31,
          32,
          33,
          34,
          35,
          36,
          37,
          38,
          39,
          40,
          41,
          42,
          43,
          44,
          45,
          46,
          47,
          48,
          49,
          50,
          51,
          52,
          53,
          54,
          55,
          56,
          57,
          58,
          59,
          60,
          61,
          62,
          63,
          64,
          65,
          66,
          67,
          68,
          69,
          70,
          71,
          72,
          73,
          74,
          75,
          76,
          77,
          78,
          79,
          80,
          81,
          82,
          83,
          84,
          85,
          86,
          87,
          88,
          89,
          90,
          91,
          92,
          93,
          94,
          95,
          96,
          97,
          98,
          99,
          100,
          101,
          102,
          103,
          103,
          104,
          105,
          106,
          107,
          108,
          109,
          110,
          111,
          112,
          113,
          114,
          115,
          116,
          117,
          118,
          119,
          120,
          121,
          122,
          123,
          124,
          125,
          126,
          127,
          128,
          129,
          130,
          131,
          132,
          133,
          134,
          135,
          136,
          137,
          138,
          139,
          140,
          141,
          142,
          143,
          144,
          145,
          146,
          147,
          148,
          149,
          150,
          151,
          152,
          153,
          154,
          155,
          156,
          157,
          158,
          159,
          160,
          161,
          162,
          163,
          164,
          165,
          166,
          167,
          168,
          169,
          170,
          171,
          172,
          173,
          174,
          175,
          176,
          177,
          178,
          179,
          180,
          181,
          182,
          183,
          184,
          185,
          186,
          187,
          188,
          189,
          190,
          191,
          192,
          193,
          194,
          195,
          196,
          197,
          198,
          199,
          200,
          201,
          202,
          203,
          204,
          205,
          206,
          207,
          208,
          209,
          210,
          211,
          212,
          213,
          214,
          215,
          216,
          217,
          218,
          219,
          220,
          221,
          222,
          223,
          224,
          225,
          226,
          227,
          228,
          229,
          230,
          231,
          232,
          233,
          234,
          235,
          236,
          237,
          238,
          239,
          240,
          241,
          242,
          243,
          244,
          245,
          246,
          247,
          248,
          249,
          250,
          251,
          252,
          253,
          254,
          255,
          256,
          257,
          258,
          259,
          260,
          261,
          262,
          263,
          264,
          265,
          266,
          267,
          268,
          269,
          270,
          271,
          272,
          273,
          274,
          275,
          276,
          277,
          278,
          279,
          280,
          281,
          282,
          283,
          284,
          285,
          286,
          287,
          288,
          289,
          290,
          291,
          292,
          293,
          294,
          295,
          296,
          297,
          298,
          299,
          300,
          301,
          302,
          303,
          304,
          305,
          306,
          307,
          308,
          309,
          310,
          311,
          312,
          313,
          314,
          315,
          316,
          317,
          318,
          319,
          320,
          321,
          322,
          323,
          324,
          325,
          326,
          327,
          328,
          329,
          330,
          331,
          332,
          333,
          334,
          335,
          336,
          337,
          338,
          339,
          340,
          341,
          341,
          341,
          342,
          342,
          343,
          344
         ],
         "y": [
          null,
          null,
          2.142857142857143,
          3.3571428571428568,
          3.214285714285714,
          3.071428571428571,
          3.6428571428571423,
          3.928571428571428,
          1.4285714285714284,
          4.785714285714286,
          4.571428571428571,
          11.285714285714285,
          4.571428571428571,
          7.499999999999999,
          7.999999999999999,
          7.5,
          9,
          12.357142857142856,
          14.357142857142856,
          11.071428571428571,
          12,
          13.999999999999998,
          13.57142857142857,
          11.214285714285714,
          11.5,
          11.857142857142856,
          15.857142857142856,
          15,
          14.285714285714285,
          20.428571428571427,
          20.71428571428571,
          22.21428571428571,
          24.71428571428571,
          19.357142857142854,
          14.785714285714285,
          20.928571428571427,
          22.857142857142854,
          23.785714285714285,
          21.357142857142854,
          24.785714285714285,
          24.57142857142857,
          27.428571428571427,
          31.857142857142854,
          29.785714285714285,
          29.71428571428571,
          29.21428571428571,
          27.785714285714285,
          25.21428571428571,
          28.07142857142857,
          30.21428571428571,
          28.357142857142854,
          34.357142857142854,
          34,
          37.21428571428571,
          37.92857142857142,
          36.785714285714285,
          36.14285714285714,
          34.71428571428571,
          36.07142857142857,
          33.57142857142857,
          36.857142857142854,
          37.857142857142854,
          37.42857142857142,
          37.07142857142857,
          37.64285714285714,
          37.285714285714285,
          39,
          38.5,
          40.07142857142857,
          37.57142857142857,
          35.71428571428571,
          39.57142857142857,
          42.785714285714285,
          36.785714285714285,
          37.64285714285714,
          39.857142857142854,
          40.21428571428571,
          41.357142857142854,
          38.64285714285714,
          36.71428571428571,
          36.07142857142857,
          35.357142857142854,
          37,
          33.285714285714285,
          39.21428571428571,
          40.21428571428571,
          42.14285714285714,
          38.92857142857142,
          39.357142857142854,
          39.14285714285714,
          40.99999999999999,
          39.857142857142854,
          39.21428571428571,
          34.5,
          33.785714285714285,
          36.42857142857142,
          33.857142857142854,
          33.71428571428571,
          36.42857142857142,
          37.71428571428571,
          36.07142857142857,
          33.285714285714285,
          39.285714285714285,
          33.214285714285715,
          35.14285714285714,
          38.357142857142854,
          38.5,
          36.857142857142854,
          37.42857142857142,
          37.857142857142854,
          37.357142857142854,
          35.785714285714285,
          35.785714285714285,
          34,
          39,
          38.785714285714285,
          37.64285714285714,
          37.07142857142857,
          35.71428571428571,
          35.785714285714285,
          36.57142857142857,
          34.357142857142854,
          33.92857142857142,
          31.357142857142854,
          34.14285714285714,
          33.64285714285714,
          35.14285714285714,
          35.14285714285714,
          37.64285714285714,
          35.5,
          36.92857142857142,
          37.71428571428571,
          36.07142857142857,
          36.5,
          36.21428571428571,
          32.857142857142854,
          37.14285714285714,
          35.5,
          35.71428571428571,
          35.21428571428571,
          33.14285714285714,
          34.14285714285714,
          34.14285714285714,
          35.357142857142854,
          35.21428571428571,
          31.857142857142854,
          32.285714285714285,
          30.21428571428571,
          34.42857142857142,
          32.57142857142857,
          34.64285714285714,
          33.07142857142857,
          36.785714285714285,
          37.857142857142854,
          33.57142857142857,
          36.64285714285714,
          33.285714285714285,
          30.928571428571427,
          30.71428571428571,
          31.57142857142857,
          30.64285714285714,
          33.357142857142854,
          31.428571428571427,
          30.999999999999996,
          30.285714285714285,
          30.71428571428571,
          32.214285714285715,
          34.14285714285714,
          34.857142857142854,
          29.21428571428571,
          27.928571428571427,
          28.499999999999996,
          29.57142857142857,
          35.07142857142857,
          29.71428571428571,
          35.857142857142854,
          31.285714285714285,
          30.78571428571428,
          32.71428571428571,
          32.5,
          31.499999999999996,
          29.14285714285714,
          29.499999999999996,
          34.357142857142854,
          29.428571428571427,
          31.285714285714285,
          31.21428571428571,
          35,
          32.71428571428571,
          32.07142857142857,
          33.21428571428571,
          32.57142857142857,
          30.21428571428571,
          31.14285714285714,
          32.42857142857142,
          33.57142857142857,
          33.92857142857142,
          34.64285714285714,
          32.357142857142854,
          29.999999999999996,
          29.142857142857142,
          29.64285714285714,
          30.57142857142857,
          28.357142857142854,
          30.499999999999996,
          36.785714285714285,
          34.285714285714285,
          31.928571428571427,
          25.928571428571427,
          33.857142857142854,
          32.71428571428571,
          33.5,
          33.14285714285714,
          29.857142857142854,
          32.214285714285715,
          31.64285714285714,
          31.857142857142854,
          33.21428571428571,
          31.928571428571427,
          30.57142857142857,
          31.999999999999996,
          28.285714285714285,
          27.785714285714285,
          28.499999999999996,
          26.999999999999996,
          28.785714285714285,
          29.07142857142857,
          30.357142857142854,
          30.21428571428571,
          29.428571428571427,
          31,
          32.42857142857142,
          34.21428571428571,
          32.92857142857142,
          26.428571428571427,
          29.428571428571423,
          31.357142857142854,
          30.07142857142857,
          26,
          27.57142857142857,
          22.857142857142854,
          18.71428571428571,
          15.285714285714285,
          12.285714285714285,
          6.7142857142857135,
          3.8571428571428568,
          1.1428571428571428,
          4.7142857142857135,
          2,
          5.642857142857142,
          6.785714285714285,
          3.214285714285714,
          0.7857142857142857,
          2.642857142857143,
          1.1428571428571428,
          0.2857142857142857,
          0,
          4.5,
          7.142857142857142,
          6.642857142857142,
          5.5,
          3.7857142857142856,
          3.1428571428571423,
          5.571428571428571,
          7.999999999999999,
          6.285714285714285,
          3.9999999999999996,
          5.071428571428571,
          3.214285714285714,
          4.2142857142857135,
          7.999999999999999,
          19.928571428571427,
          31.285714285714285,
          46.857142857142854,
          46.92857142857142,
          50.14285714285714,
          49.57142857142857,
          48.57142857142857,
          48.07142857142857,
          49.285714285714285,
          44.71428571428571,
          49.64285714285714,
          47.07142857142857,
          48.785714285714285,
          48.357142857142854,
          43.64285714285714,
          40.21428571428571,
          43,
          44.57142857142857,
          45.64285714285714,
          45.92857142857142,
          45.99999999999999,
          44.07142857142857,
          46.42857142857142,
          45.71428571428571,
          44.57142857142857,
          44.71428571428571,
          43.64285714285714,
          41.857142857142854,
          43.71428571428571,
          44.71428571428571,
          43.71428571428571,
          42.49999999999999,
          43.357142857142854,
          47.07142857142857,
          49.92857142857142,
          45.71428571428571,
          42.285714285714285,
          43.07142857142857,
          42.5,
          41.5,
          44.285714285714285,
          41.78571428571428,
          43,
          41.14285714285714,
          42.21428571428571,
          40.21428571428571,
          40.57142857142857,
          40.857142857142854,
          42.92857142857142,
          43.14285714285714,
          43.07142857142857,
          40.42857142857142,
          38.64285714285714,
          39.357142857142854,
          40.5,
          40.92857142857142,
          36.5,
          39,
          38.57142857142857,
          40.785714285714285,
          39.785714285714285,
          39.21428571428571,
          38.99999999999999,
          38.357142857142854,
          38.71428571428571,
          39.57142857142857,
          37.357142857142854,
          35,
          36.71428571428571,
          37.07142857142857,
          35.785714285714285,
          36.42857142857142,
          40.07142857142857,
          40.357142857142854,
          36.92857142857142,
          32.785714285714285,
          35.785714285714285,
          36.21428571428571
         ]
        },
        {
         "line": {
          "color": "indigo",
          "width": 2
         },
         "name": "Forcast",
         "type": "scatter",
         "x": [
          344,
          345,
          346
         ],
         "y": [
          36,
          35.33653846153846,
          35.67631286982248
         ]
        }
       ],
       "layout": {
        "template": {
         "data": {
          "bar": [
           {
            "error_x": {
             "color": "#2a3f5f"
            },
            "error_y": {
             "color": "#2a3f5f"
            },
            "marker": {
             "line": {
              "color": "white",
              "width": 0.5
             },
             "pattern": {
              "fillmode": "overlay",
              "size": 10,
              "solidity": 0.2
             }
            },
            "type": "bar"
           }
          ],
          "barpolar": [
           {
            "marker": {
             "line": {
              "color": "white",
              "width": 0.5
             },
             "pattern": {
              "fillmode": "overlay",
              "size": 10,
              "solidity": 0.2
             }
            },
            "type": "barpolar"
           }
          ],
          "carpet": [
           {
            "aaxis": {
             "endlinecolor": "#2a3f5f",
             "gridcolor": "#C8D4E3",
             "linecolor": "#C8D4E3",
             "minorgridcolor": "#C8D4E3",
             "startlinecolor": "#2a3f5f"
            },
            "baxis": {
             "endlinecolor": "#2a3f5f",
             "gridcolor": "#C8D4E3",
             "linecolor": "#C8D4E3",
             "minorgridcolor": "#C8D4E3",
             "startlinecolor": "#2a3f5f"
            },
            "type": "carpet"
           }
          ],
          "choropleth": [
           {
            "colorbar": {
             "outlinewidth": 0,
             "ticks": ""
            },
            "type": "choropleth"
           }
          ],
          "contour": [
           {
            "colorbar": {
             "outlinewidth": 0,
             "ticks": ""
            },
            "colorscale": [
             [
              0,
              "#0d0887"
             ],
             [
              0.1111111111111111,
              "#46039f"
             ],
             [
              0.2222222222222222,
              "#7201a8"
             ],
             [
              0.3333333333333333,
              "#9c179e"
             ],
             [
              0.4444444444444444,
              "#bd3786"
             ],
             [
              0.5555555555555556,
              "#d8576b"
             ],
             [
              0.6666666666666666,
              "#ed7953"
             ],
             [
              0.7777777777777778,
              "#fb9f3a"
             ],
             [
              0.8888888888888888,
              "#fdca26"
             ],
             [
              1,
              "#f0f921"
             ]
            ],
            "type": "contour"
           }
          ],
          "contourcarpet": [
           {
            "colorbar": {
             "outlinewidth": 0,
             "ticks": ""
            },
            "type": "contourcarpet"
           }
          ],
          "heatmap": [
           {
            "colorbar": {
             "outlinewidth": 0,
             "ticks": ""
            },
            "colorscale": [
             [
              0,
              "#0d0887"
             ],
             [
              0.1111111111111111,
              "#46039f"
             ],
             [
              0.2222222222222222,
              "#7201a8"
             ],
             [
              0.3333333333333333,
              "#9c179e"
             ],
             [
              0.4444444444444444,
              "#bd3786"
             ],
             [
              0.5555555555555556,
              "#d8576b"
             ],
             [
              0.6666666666666666,
              "#ed7953"
             ],
             [
              0.7777777777777778,
              "#fb9f3a"
             ],
             [
              0.8888888888888888,
              "#fdca26"
             ],
             [
              1,
              "#f0f921"
             ]
            ],
            "type": "heatmap"
           }
          ],
          "heatmapgl": [
           {
            "colorbar": {
             "outlinewidth": 0,
             "ticks": ""
            },
            "colorscale": [
             [
              0,
              "#0d0887"
             ],
             [
              0.1111111111111111,
              "#46039f"
             ],
             [
              0.2222222222222222,
              "#7201a8"
             ],
             [
              0.3333333333333333,
              "#9c179e"
             ],
             [
              0.4444444444444444,
              "#bd3786"
             ],
             [
              0.5555555555555556,
              "#d8576b"
             ],
             [
              0.6666666666666666,
              "#ed7953"
             ],
             [
              0.7777777777777778,
              "#fb9f3a"
             ],
             [
              0.8888888888888888,
              "#fdca26"
             ],
             [
              1,
              "#f0f921"
             ]
            ],
            "type": "heatmapgl"
           }
          ],
          "histogram": [
           {
            "marker": {
             "pattern": {
              "fillmode": "overlay",
              "size": 10,
              "solidity": 0.2
             }
            },
            "type": "histogram"
           }
          ],
          "histogram2d": [
           {
            "colorbar": {
             "outlinewidth": 0,
             "ticks": ""
            },
            "colorscale": [
             [
              0,
              "#0d0887"
             ],
             [
              0.1111111111111111,
              "#46039f"
             ],
             [
              0.2222222222222222,
              "#7201a8"
             ],
             [
              0.3333333333333333,
              "#9c179e"
             ],
             [
              0.4444444444444444,
              "#bd3786"
             ],
             [
              0.5555555555555556,
              "#d8576b"
             ],
             [
              0.6666666666666666,
              "#ed7953"
             ],
             [
              0.7777777777777778,
              "#fb9f3a"
             ],
             [
              0.8888888888888888,
              "#fdca26"
             ],
             [
              1,
              "#f0f921"
             ]
            ],
            "type": "histogram2d"
           }
          ],
          "histogram2dcontour": [
           {
            "colorbar": {
             "outlinewidth": 0,
             "ticks": ""
            },
            "colorscale": [
             [
              0,
              "#0d0887"
             ],
             [
              0.1111111111111111,
              "#46039f"
             ],
             [
              0.2222222222222222,
              "#7201a8"
             ],
             [
              0.3333333333333333,
              "#9c179e"
             ],
             [
              0.4444444444444444,
              "#bd3786"
             ],
             [
              0.5555555555555556,
              "#d8576b"
             ],
             [
              0.6666666666666666,
              "#ed7953"
             ],
             [
              0.7777777777777778,
              "#fb9f3a"
             ],
             [
              0.8888888888888888,
              "#fdca26"
             ],
             [
              1,
              "#f0f921"
             ]
            ],
            "type": "histogram2dcontour"
           }
          ],
          "mesh3d": [
           {
            "colorbar": {
             "outlinewidth": 0,
             "ticks": ""
            },
            "type": "mesh3d"
           }
          ],
          "parcoords": [
           {
            "line": {
             "colorbar": {
              "outlinewidth": 0,
              "ticks": ""
             }
            },
            "type": "parcoords"
           }
          ],
          "pie": [
           {
            "automargin": true,
            "type": "pie"
           }
          ],
          "scatter": [
           {
            "fillpattern": {
             "fillmode": "overlay",
             "size": 10,
             "solidity": 0.2
            },
            "type": "scatter"
           }
          ],
          "scatter3d": [
           {
            "line": {
             "colorbar": {
              "outlinewidth": 0,
              "ticks": ""
             }
            },
            "marker": {
             "colorbar": {
              "outlinewidth": 0,
              "ticks": ""
             }
            },
            "type": "scatter3d"
           }
          ],
          "scattercarpet": [
           {
            "marker": {
             "colorbar": {
              "outlinewidth": 0,
              "ticks": ""
             }
            },
            "type": "scattercarpet"
           }
          ],
          "scattergeo": [
           {
            "marker": {
             "colorbar": {
              "outlinewidth": 0,
              "ticks": ""
             }
            },
            "type": "scattergeo"
           }
          ],
          "scattergl": [
           {
            "marker": {
             "colorbar": {
              "outlinewidth": 0,
              "ticks": ""
             }
            },
            "type": "scattergl"
           }
          ],
          "scattermapbox": [
           {
            "marker": {
             "colorbar": {
              "outlinewidth": 0,
              "ticks": ""
             }
            },
            "type": "scattermapbox"
           }
          ],
          "scatterpolar": [
           {
            "marker": {
             "colorbar": {
              "outlinewidth": 0,
              "ticks": ""
             }
            },
            "type": "scatterpolar"
           }
          ],
          "scatterpolargl": [
           {
            "marker": {
             "colorbar": {
              "outlinewidth": 0,
              "ticks": ""
             }
            },
            "type": "scatterpolargl"
           }
          ],
          "scatterternary": [
           {
            "marker": {
             "colorbar": {
              "outlinewidth": 0,
              "ticks": ""
             }
            },
            "type": "scatterternary"
           }
          ],
          "surface": [
           {
            "colorbar": {
             "outlinewidth": 0,
             "ticks": ""
            },
            "colorscale": [
             [
              0,
              "#0d0887"
             ],
             [
              0.1111111111111111,
              "#46039f"
             ],
             [
              0.2222222222222222,
              "#7201a8"
             ],
             [
              0.3333333333333333,
              "#9c179e"
             ],
             [
              0.4444444444444444,
              "#bd3786"
             ],
             [
              0.5555555555555556,
              "#d8576b"
             ],
             [
              0.6666666666666666,
              "#ed7953"
             ],
             [
              0.7777777777777778,
              "#fb9f3a"
             ],
             [
              0.8888888888888888,
              "#fdca26"
             ],
             [
              1,
              "#f0f921"
             ]
            ],
            "type": "surface"
           }
          ],
          "table": [
           {
            "cells": {
             "fill": {
              "color": "#EBF0F8"
             },
             "line": {
              "color": "white"
             }
            },
            "header": {
             "fill": {
              "color": "#C8D4E3"
             },
             "line": {
              "color": "white"
             }
            },
            "type": "table"
           }
          ]
         },
         "layout": {
          "annotationdefaults": {
           "arrowcolor": "#2a3f5f",
           "arrowhead": 0,
           "arrowwidth": 1
          },
          "autotypenumbers": "strict",
          "coloraxis": {
           "colorbar": {
            "outlinewidth": 0,
            "ticks": ""
           }
          },
          "colorscale": {
           "diverging": [
            [
             0,
             "#8e0152"
            ],
            [
             0.1,
             "#c51b7d"
            ],
            [
             0.2,
             "#de77ae"
            ],
            [
             0.3,
             "#f1b6da"
            ],
            [
             0.4,
             "#fde0ef"
            ],
            [
             0.5,
             "#f7f7f7"
            ],
            [
             0.6,
             "#e6f5d0"
            ],
            [
             0.7,
             "#b8e186"
            ],
            [
             0.8,
             "#7fbc41"
            ],
            [
             0.9,
             "#4d9221"
            ],
            [
             1,
             "#276419"
            ]
           ],
           "sequential": [
            [
             0,
             "#0d0887"
            ],
            [
             0.1111111111111111,
             "#46039f"
            ],
            [
             0.2222222222222222,
             "#7201a8"
            ],
            [
             0.3333333333333333,
             "#9c179e"
            ],
            [
             0.4444444444444444,
             "#bd3786"
            ],
            [
             0.5555555555555556,
             "#d8576b"
            ],
            [
             0.6666666666666666,
             "#ed7953"
            ],
            [
             0.7777777777777778,
             "#fb9f3a"
            ],
            [
             0.8888888888888888,
             "#fdca26"
            ],
            [
             1,
             "#f0f921"
            ]
           ],
           "sequentialminus": [
            [
             0,
             "#0d0887"
            ],
            [
             0.1111111111111111,
             "#46039f"
            ],
            [
             0.2222222222222222,
             "#7201a8"
            ],
            [
             0.3333333333333333,
             "#9c179e"
            ],
            [
             0.4444444444444444,
             "#bd3786"
            ],
            [
             0.5555555555555556,
             "#d8576b"
            ],
            [
             0.6666666666666666,
             "#ed7953"
            ],
            [
             0.7777777777777778,
             "#fb9f3a"
            ],
            [
             0.8888888888888888,
             "#fdca26"
            ],
            [
             1,
             "#f0f921"
            ]
           ]
          },
          "colorway": [
           "#636efa",
           "#EF553B",
           "#00cc96",
           "#ab63fa",
           "#FFA15A",
           "#19d3f3",
           "#FF6692",
           "#B6E880",
           "#FF97FF",
           "#FECB52"
          ],
          "font": {
           "color": "#2a3f5f"
          },
          "geo": {
           "bgcolor": "white",
           "lakecolor": "white",
           "landcolor": "white",
           "showlakes": true,
           "showland": true,
           "subunitcolor": "#C8D4E3"
          },
          "hoverlabel": {
           "align": "left"
          },
          "hovermode": "closest",
          "mapbox": {
           "style": "light"
          },
          "paper_bgcolor": "white",
          "plot_bgcolor": "white",
          "polar": {
           "angularaxis": {
            "gridcolor": "#EBF0F8",
            "linecolor": "#EBF0F8",
            "ticks": ""
           },
           "bgcolor": "white",
           "radialaxis": {
            "gridcolor": "#EBF0F8",
            "linecolor": "#EBF0F8",
            "ticks": ""
           }
          },
          "scene": {
           "xaxis": {
            "backgroundcolor": "white",
            "gridcolor": "#DFE8F3",
            "gridwidth": 2,
            "linecolor": "#EBF0F8",
            "showbackground": true,
            "ticks": "",
            "zerolinecolor": "#EBF0F8"
           },
           "yaxis": {
            "backgroundcolor": "white",
            "gridcolor": "#DFE8F3",
            "gridwidth": 2,
            "linecolor": "#EBF0F8",
            "showbackground": true,
            "ticks": "",
            "zerolinecolor": "#EBF0F8"
           },
           "zaxis": {
            "backgroundcolor": "white",
            "gridcolor": "#DFE8F3",
            "gridwidth": 2,
            "linecolor": "#EBF0F8",
            "showbackground": true,
            "ticks": "",
            "zerolinecolor": "#EBF0F8"
           }
          },
          "shapedefaults": {
           "line": {
            "color": "#2a3f5f"
           }
          },
          "ternary": {
           "aaxis": {
            "gridcolor": "#DFE8F3",
            "linecolor": "#A2B1C6",
            "ticks": ""
           },
           "baxis": {
            "gridcolor": "#DFE8F3",
            "linecolor": "#A2B1C6",
            "ticks": ""
           },
           "bgcolor": "white",
           "caxis": {
            "gridcolor": "#DFE8F3",
            "linecolor": "#A2B1C6",
            "ticks": ""
           }
          },
          "title": {
           "x": 0.05
          },
          "xaxis": {
           "automargin": true,
           "gridcolor": "#EBF0F8",
           "linecolor": "#EBF0F8",
           "ticks": "",
           "title": {
            "standoff": 15
           },
           "zerolinecolor": "#EBF0F8",
           "zerolinewidth": 2
          },
          "yaxis": {
           "automargin": true,
           "gridcolor": "#EBF0F8",
           "linecolor": "#EBF0F8",
           "ticks": "",
           "title": {
            "standoff": 15
           },
           "zerolinecolor": "#EBF0F8",
           "zerolinewidth": 2
          }
         }
        },
        "title": {
         "text": "Demande-344"
        },
        "xaxis": {
         "title": {
          "text": "Day"
         }
        },
        "yaxis": {
         "title": {
          "text": "Demand"
         }
        }
       }
      }
     },
     "metadata": {},
     "output_type": "display_data"
    }
   ],
   "source": [
    "fig = go.Figure()\n",
    "\n",
    "fig.add_trace(go.Scatter(x=tmp_df['Day'], y=tmp_df['Demand'], name='Demand', line=dict(color='royalblue', width=2)))\n",
    "fig.add_trace(go.Scatter(x=tmp_df['Day'], y=tmp_df['MA'], name='MA', line=dict(color='firebrick', width=2)))\n",
    "fig.add_trace(go.Scatter(x=tmp_df['Day'], y=tmp_df['WMA'], name='WMA', line=dict(color='green', width=2)))\n",
    "\n",
    "number_of_days_to_forcast = 2\n",
    "forcast_next_n_days = [tmp_df.iloc[-1]['Demand']] + forcast_n_nexth_days(tmp_df, number_of_days_to_forcast, 'MA')\n",
    "current_max_dayx = tmp_df['Day'].max()\n",
    "days = [current_max_dayx + i for i in range(0, number_of_days_to_forcast + 1)]\n",
    "\n",
    "fig.add_trace(go.Scatter(x=days, y=forcast_next_n_days, name='Forcast', line=dict(color='indigo', width=2)))\n",
    "fig.update_layout(template='plotly_white', title=f'Demande-{jour}', xaxis_title='Day', yaxis_title='Demand')\n",
    "\n",
    "fig.show()"
   ]
  },
  {
   "cell_type": "code",
   "execution_count": 18,
   "metadata": {},
   "outputs": [
    {
     "data": {
      "text/plain": [
       "1.1970514950166113"
      ]
     },
     "execution_count": 18,
     "metadata": {},
     "output_type": "execute_result"
    }
   ],
   "source": [
    "y_pred = tmp_df[\"WMA\"][window:].to_numpy()\n",
    "y = tmp_df[\"Demand\"][window:].to_numpy()\n",
    "mean_absolute_error(y, y_pred)"
   ]
  },
  {
   "cell_type": "code",
   "execution_count": null,
   "metadata": {},
   "outputs": [],
   "source": []
  }
 ],
 "metadata": {
  "kernelspec": {
   "display_name": "base",
   "language": "python",
   "name": "python3"
  },
  "language_info": {
   "codemirror_mode": {
    "name": "ipython",
    "version": 3
   },
   "file_extension": ".py",
   "mimetype": "text/x-python",
   "name": "python",
   "nbconvert_exporter": "python",
   "pygments_lexer": "ipython3",
   "version": "3.9.13"
  }
 },
 "nbformat": 4,
 "nbformat_minor": 2
}
