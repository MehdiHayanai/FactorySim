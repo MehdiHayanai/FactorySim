{
 "cells": [
  {
   "cell_type": "code",
   "execution_count": 1,
   "metadata": {},
   "outputs": [],
   "source": [
    "import requests\n",
    "import os\n",
    "from API import FactorySimAPI\n",
    "from dotenv import load_dotenv\n",
    "from time import sleep, time\n",
    "\n",
    "\n",
    "load_dotenv()\n",
    "# load the SESSION variable from the .env file\n",
    "SESSION = os.getenv('SESSION')\n",
    "VERIFICATION = os.getenv('VERIFICATION')\n",
    "USERID = os.getenv('USERID')\n",
    "\n",
    "\n",
    "host = \"http://app.factorysim.fr/\"\n"
   ]
  },
  {
   "cell_type": "code",
   "execution_count": 2,
   "metadata": {},
   "outputs": [
    {
     "name": "stdout",
     "output_type": "stream",
     "text": [
      "Connection successful\n"
     ]
    }
   ],
   "source": [
    "factory = FactorySimAPI(SESSION, VERIFICATION,USERID, host)"
   ]
  },
  {
   "cell_type": "code",
   "execution_count": 4,
   "metadata": {},
   "outputs": [],
   "source": [
    "current_day = 341"
   ]
  },
  {
   "cell_type": "code",
   "execution_count": 10,
   "metadata": {},
   "outputs": [],
   "source": [
    "import winsound\n",
    "\n",
    "\n",
    "def make_noise_sound(rep_time):\n",
    "    # Set frequency to 2000 Hertz\n",
    "    frequency = 3000\n",
    "\n",
    "    # Set duration to 1500 milliseconds (1.5 seconds)\n",
    "    duration = 1500\n",
    "\n",
    "    # Make beep sound on Windows\n",
    "    for i in range(rep_time):\n",
    "        winsound.Beep(frequency, duration)\n",
    "\n",
    "make_noise_sound(10)"
   ]
  },
  {
   "cell_type": "code",
   "execution_count": 11,
   "metadata": {},
   "outputs": [
    {
     "name": "stdout",
     "output_type": "stream",
     "text": [
      "Failed to extract data try again in 2 minutes\n",
      "Failed to extract data try again in 2 minutes\n",
      "Failed to extract data try again in 2 minutes\n",
      "Failed to extract data try again in 2 minutes\n",
      "Failed to extract data try again in 2 minutes\n",
      "Failed to extract data try again in 2 minutes\n",
      "Failed to extract data try again in 2 minutes\n",
      "Failed to extract data try again in 2 minutes\n",
      "Failed to extract data try again in 2 minutes\n",
      "Failed to extract data try again in 2 minutes\n",
      "Failed to extract data try again in 2 minutes\n",
      "Failed to extract data try again in 2 minutes\n",
      "Failed to extract data try again in 2 minutes\n",
      "Failed to extract data try again in 2 minutes\n",
      "Failed to extract data try again in 2 minutes\n",
      "Saving ranking to data/history/ranking342.csv\n",
      "Saving ranking to data/extended/ranking_extended342.csv\n",
      "Failed to extract data try again in 2 minutes\n",
      "Failed to extract data try again in 2 minutes\n",
      "Failed to extract data try again in 2 minutes\n",
      "Failed to extract data try again in 2 minutes\n",
      "Saving ranking to data/history/ranking343.csv\n",
      "Saving ranking to data/extended/ranking_extended343.csv\n",
      "Saving ranking to data/history/ranking344.csv\n",
      "Saving ranking to data/extended/ranking_extended344.csv\n"
     ]
    }
   ],
   "source": [
    "sleeping_time = 5 * 60\n",
    "\n",
    "while current_day < 365:\n",
    "    if current_day >= 355:\n",
    "        make_noise_sound(10)\n",
    "    try:\n",
    "        tmp_day = factory.get_current_day()\n",
    "        if tmp_day != current_day:\n",
    "            current_day = tmp_day\n",
    "            factory.save_all_rankings()\n",
    "            sleeping_time = 5 * 60\n",
    "    except:\n",
    "        print(\"Failed to extract data try again in 2 minutes\")\n",
    "        sleeping_time = 2 * 60\n",
    "    \n",
    "    sleep(sleeping_time)"
   ]
  },
  {
   "cell_type": "code",
   "execution_count": null,
   "metadata": {},
   "outputs": [],
   "source": []
  },
  {
   "cell_type": "code",
   "execution_count": null,
   "metadata": {},
   "outputs": [
    {
     "name": "stdout",
     "output_type": "stream",
     "text": [
      "Saving ranking to data/history/ranking219.csv\n",
      "Saving ranking to data/extended/ranking_extended219.csv\n"
     ]
    }
   ],
   "source": [
    "factory.save_all_rankings()"
   ]
  },
  {
   "cell_type": "code",
   "execution_count": null,
   "metadata": {},
   "outputs": [],
   "source": [
    "factory.save_ranking_to_dir()"
   ]
  },
  {
   "cell_type": "code",
   "execution_count": null,
   "metadata": {},
   "outputs": [],
   "source": []
  }
 ],
 "metadata": {
  "kernelspec": {
   "display_name": "base",
   "language": "python",
   "name": "python3"
  },
  "language_info": {
   "codemirror_mode": {
    "name": "ipython",
    "version": 3
   },
   "file_extension": ".py",
   "mimetype": "text/x-python",
   "name": "python",
   "nbconvert_exporter": "python",
   "pygments_lexer": "ipython3",
   "version": "3.9.13"
  }
 },
 "nbformat": 4,
 "nbformat_minor": 2
}
